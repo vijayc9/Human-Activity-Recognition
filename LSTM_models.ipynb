{
  "cells": [
    {
      "cell_type": "markdown",
      "metadata": {
        "id": "view-in-github",
        "colab_type": "text"
      },
      "source": [
        "<a href=\"https://colab.research.google.com/github/vijayc9/Human-Activity-Recognition/blob/main/LSTM_models.ipynb\" target=\"_parent\"><img src=\"https://colab.research.google.com/assets/colab-badge.svg\" alt=\"Open In Colab\"/></a>"
      ]
    },
    {
      "cell_type": "markdown",
      "metadata": {
        "id": "c0XeH6Bm7UBY"
      },
      "source": [
        "**Applying LSTM Models on Raw Data**"
      ]
    },
    {
      "cell_type": "code",
      "execution_count": null,
      "metadata": {
        "id": "de3KWrjn7UBj"
      },
      "outputs": [],
      "source": [
        "# Importing Libraries\n",
        "\n",
        "import pandas as pd\n",
        "import numpy as np\n",
        "\n",
        "# Import Keras\n",
        "from keras import backend as K\n",
        "from keras.models import Sequential\n",
        "from keras.layers import LSTM\n",
        "from keras.layers.core import Dense, Dropout\n",
        "from keras.layers import BatchNormalization\n",
        "from keras.regularizers import L1L2\n"
      ]
    },
    {
      "cell_type": "code",
      "execution_count": null,
      "metadata": {
        "id": "jdpLU6WP7UBn"
      },
      "outputs": [],
      "source": [
        "# Activities are the class labels\n",
        "# It is a 6 class classification\n",
        "ACTIVITIES = {\n",
        "    0: 'WALKING',\n",
        "    1: 'WALKING_UPSTAIRS',\n",
        "    2: 'WALKING_DOWNSTAIRS',\n",
        "    3: 'SITTING',\n",
        "    4: 'STANDING',\n",
        "    5: 'LAYING',\n",
        "}"
      ]
    },
    {
      "cell_type": "code",
      "execution_count": null,
      "metadata": {
        "id": "zlkQbkua7UBp"
      },
      "outputs": [],
      "source": [
        "import matplotlib.pyplot as plt\n",
        "import seaborn as sns\n",
        "\n",
        "# function to print the confusion matrix\n",
        "\n",
        "def new_confusion_matrix(Y_true, Y_pred):\n",
        "    \n",
        "    Y_true = pd.Series([ACTIVITIES[y] for y in np.argmax(Y_true, axis=1)])\n",
        "    Y_pred = pd.Series([ACTIVITIES[y] for y in np.argmax(Y_pred, axis=1)])\n",
        "\n",
        "    return pd.crosstab(Y_true, Y_pred, rownames=['True'], colnames=['Pred'])\n",
        "\n",
        "    \n",
        "   # result = confusion_matrix(Y_true, Y_pred)\n",
        "\n",
        "    #plt.figure(figsize=(10, 8))\n",
        "   # sns.heatmap(result, \n",
        "    #            xticklabels= list(ACTIVITIES.values()), \n",
        "     #           yticklabels=list(ACTIVITIES.values()), \n",
        "      #          annot=True, fmt=\"d\");\n",
        "   # plt.title(\"Confusion matrix\")\n",
        "   # plt.ylabel('True label')\n",
        "   # plt.xlabel('Predicted label')\n",
        "    plt.show()  "
      ]
    },
    {
      "cell_type": "code",
      "source": [
        "from google.colab import drive\n",
        "drive.mount('/content/drive')"
      ],
      "metadata": {
        "colab": {
          "base_uri": "https://localhost:8080/"
        },
        "id": "wxIYLz8d760Q",
        "outputId": "6c9d095b-0a8b-4865-f48a-ba21a81da893"
      },
      "execution_count": null,
      "outputs": [
        {
          "output_type": "stream",
          "name": "stdout",
          "text": [
            "Mounted at /content/drive\n"
          ]
        }
      ]
    },
    {
      "cell_type": "markdown",
      "metadata": {
        "id": "L5lpmfwh7UBr"
      },
      "source": [
        "<html><h1><p style=\"color:red\">Loading Data / Making Data </p></h1></html>"
      ]
    },
    {
      "cell_type": "code",
      "execution_count": null,
      "metadata": {
        "id": "6dPDZZVp7UBs"
      },
      "outputs": [],
      "source": [
        "# Data directory\n",
        "DATADIR = '/content/drive/MyDrive/Colab Notebooks/UCI HAR Dataset'#'UCI_HAR_Dataset'\n",
        "\n",
        "\n",
        "# Raw data signals\n",
        "# Signals are from Accelerometer and Gyroscope\n",
        "# The signals are in x,y,z directions\n",
        "# Sensor signals are filtered to have only body acceleration\n",
        "# excluding the acceleration due to gravity\n",
        "# Triaxial acceleration from the accelerometer is total acceleration\n",
        "SIGNALS = [\n",
        "    \"body_acc_x\",\n",
        "    \"body_acc_y\",\n",
        "    \"body_acc_z\",\n",
        "    \"body_gyro_x\",\n",
        "    \"body_gyro_y\",\n",
        "    \"body_gyro_z\",\n",
        "    \"total_acc_x\",\n",
        "    \"total_acc_y\",\n",
        "    \"total_acc_z\"\n",
        "    ]"
      ]
    },
    {
      "cell_type": "code",
      "execution_count": null,
      "metadata": {
        "id": "xXnD1Xar7UBv"
      },
      "outputs": [],
      "source": [
        "# function to read the data from csv file\n",
        "def _read_csv(filename):\n",
        "    return pd.read_csv(filename, delim_whitespace=True, header=None)\n",
        "\n",
        "# function to load the load\n",
        "def load_signals(subset):\n",
        "    signals_data = []\n",
        "\n",
        "    for signal in SIGNALS:\n",
        "        filename = f'/content/drive/MyDrive/Colab Notebooks/UCI HAR Dataset/{subset}/Inertial Signals/{signal}_{subset}.txt'\n",
        "        signals_data.append(\n",
        "            _read_csv(filename).to_numpy()\n",
        "        ) \n",
        "\n",
        "    # Transpose is used to change the dimensionality of the output,\n",
        "    # aggregating the signals by combination of sample/timestep.\n",
        "    # Resultant shape is (7352 train/2947 test samples, 128 timesteps, 9 signals)\n",
        "    return np.transpose(signals_data, (1, 2, 0))"
      ]
    },
    {
      "cell_type": "code",
      "execution_count": null,
      "metadata": {
        "id": "_nRIyY0l7UBx"
      },
      "outputs": [],
      "source": [
        "def load_y(subset):\n",
        "    \"\"\"\n",
        "    The objective that we are trying to predict is a integer, from 1 to 6,\n",
        "    that represents a human activity. We return a binary representation of \n",
        "    every sample objective as a 6 bits vector using One Hot Encoding\n",
        "    (https://pandas.pydata.org/pandas-docs/stable/generated/pandas.get_dummies.html)\n",
        "    \"\"\"\n",
        "    filename = f'/content/drive/MyDrive/Colab Notebooks/UCI HAR Dataset/{subset}/y_{subset}.txt'\n",
        "    y = _read_csv(filename)[0]\n",
        "\n",
        "    return pd.get_dummies(y).to_numpy()"
      ]
    },
    {
      "cell_type": "code",
      "execution_count": null,
      "metadata": {
        "id": "Zz5tPxMD7UBy"
      },
      "outputs": [],
      "source": [
        "def load_data():\n",
        "    \"\"\"\n",
        "    Obtain the dataset from multiple files.\n",
        "    Returns: X_train, X_test, y_train, y_test\n",
        "    \"\"\"\n",
        "    X_train, X_test = load_signals('train'), load_signals('test')\n",
        "    y_train, y_test = load_y('train'), load_y('test')\n",
        "\n",
        "    return X_train, X_test, y_train, y_test"
      ]
    },
    {
      "cell_type": "code",
      "execution_count": null,
      "metadata": {
        "id": "RXnV8bYD7UB1"
      },
      "outputs": [],
      "source": [
        "# Importing tensorflow\n",
        "np.random.seed(42)\n",
        "import tensorflow as tf\n",
        "tf.random.set_seed(42)"
      ]
    },
    {
      "cell_type": "code",
      "execution_count": null,
      "metadata": {
        "id": "W8Riep717UB2"
      },
      "outputs": [],
      "source": [
        "# Initializing parameters\n",
        "epochs = 30\n",
        "batch_size = 16\n",
        "n_hidden = 32"
      ]
    },
    {
      "cell_type": "code",
      "execution_count": null,
      "metadata": {
        "id": "IttB20jq7UB3"
      },
      "outputs": [],
      "source": [
        "#function to count the number of classes\n",
        "def _count_classes(y):\n",
        "    return len(set([tuple(category) for category in y]))"
      ]
    },
    {
      "cell_type": "code",
      "execution_count": null,
      "metadata": {
        "id": "Cgiz8QKM7UB4"
      },
      "outputs": [],
      "source": [
        "# Loading the train and test data\n",
        "X_train, X_test, Y_train, Y_test = load_data()"
      ]
    },
    {
      "cell_type": "code",
      "execution_count": null,
      "metadata": {
        "colab": {
          "base_uri": "https://localhost:8080/"
        },
        "id": "BSx9ZDCi7UB5",
        "outputId": "94712f39-3e64-42f8-b99d-87a40cd59d0b"
      },
      "outputs": [
        {
          "output_type": "stream",
          "name": "stdout",
          "text": [
            "128\n",
            "9\n",
            "7352\n"
          ]
        }
      ],
      "source": [
        "timesteps = len(X_train[0])\n",
        "input_dim = len(X_train[0][0])\n",
        "n_classes = _count_classes(Y_train)\n",
        "\n",
        "print(timesteps)\n",
        "print(input_dim)\n",
        "print(len(X_train))"
      ]
    },
    {
      "cell_type": "code",
      "execution_count": null,
      "metadata": {
        "id": "rMEaaqiS7UB7"
      },
      "outputs": [],
      "source": []
    },
    {
      "cell_type": "markdown",
      "metadata": {
        "id": "5KTFTrqb7UB7"
      },
      "source": [
        "**1. Defining the Architecture of 1-Layer of LSTM**\n",
        "\n",
        "\n"
      ]
    },
    {
      "cell_type": "code",
      "execution_count": null,
      "metadata": {
        "colab": {
          "base_uri": "https://localhost:8080/"
        },
        "id": "rZqKaevO7UB8",
        "outputId": "7bd2b02f-c221-4895-a222-142b045831b7"
      },
      "outputs": [
        {
          "output_type": "stream",
          "name": "stdout",
          "text": [
            "Model: \"sequential\"\n",
            "_________________________________________________________________\n",
            " Layer (type)                Output Shape              Param #   \n",
            "=================================================================\n",
            " lstm (LSTM)                 (None, 32)                5376      \n",
            "                                                                 \n",
            " dropout (Dropout)           (None, 32)                0         \n",
            "                                                                 \n",
            " dense (Dense)               (None, 6)                 198       \n",
            "                                                                 \n",
            "=================================================================\n",
            "Total params: 5,574\n",
            "Trainable params: 5,574\n",
            "Non-trainable params: 0\n",
            "_________________________________________________________________\n"
          ]
        }
      ],
      "source": [
        "# Initiliazing the sequential model\n",
        "model = Sequential()\n",
        "# Configuring the parameters\n",
        "model.add(LSTM(n_hidden, input_shape=(timesteps, input_dim)))\n",
        "# Adding a dropout layer\n",
        "model.add(Dropout(0.5))\n",
        "# Adding a dense output layer with sigmoid activation\n",
        "model.add(Dense(n_classes, activation='sigmoid'))\n",
        "model.summary()"
      ]
    },
    {
      "cell_type": "code",
      "execution_count": null,
      "metadata": {
        "id": "-h4ex7p27UB9"
      },
      "outputs": [],
      "source": [
        "# Compiling the model\n",
        "model.compile(loss='categorical_crossentropy', optimizer='rmsprop', metrics=['accuracy'])"
      ]
    },
    {
      "cell_type": "code",
      "execution_count": null,
      "metadata": {
        "scrolled": false,
        "colab": {
          "base_uri": "https://localhost:8080/"
        },
        "id": "Tlw0JmkB7UB9",
        "outputId": "338eae18-6f72-473d-890b-afb46508ea7b"
      },
      "outputs": [
        {
          "output_type": "stream",
          "name": "stdout",
          "text": [
            "Epoch 1/30\n",
            "460/460 [==============================] - 24s 47ms/step - loss: 1.2052 - accuracy: 0.4944 - val_loss: 0.9226 - val_accuracy: 0.5945\n",
            "Epoch 2/30\n",
            "460/460 [==============================] - 23s 49ms/step - loss: 0.8041 - accuracy: 0.6500 - val_loss: 0.7612 - val_accuracy: 0.6841\n",
            "Epoch 3/30\n",
            "460/460 [==============================] - 21s 45ms/step - loss: 0.6805 - accuracy: 0.7203 - val_loss: 0.6757 - val_accuracy: 0.7418\n",
            "Epoch 4/30\n",
            "460/460 [==============================] - 21s 46ms/step - loss: 0.5312 - accuracy: 0.8111 - val_loss: 0.7307 - val_accuracy: 0.7608\n",
            "Epoch 5/30\n",
            "460/460 [==============================] - 21s 45ms/step - loss: 0.3963 - accuracy: 0.8723 - val_loss: 0.4535 - val_accuracy: 0.8585\n",
            "Epoch 6/30\n",
            "460/460 [==============================] - 22s 48ms/step - loss: 0.3088 - accuracy: 0.9101 - val_loss: 0.4747 - val_accuracy: 0.8504\n",
            "Epoch 7/30\n",
            "460/460 [==============================] - 26s 57ms/step - loss: 0.2765 - accuracy: 0.9189 - val_loss: 0.4399 - val_accuracy: 0.8599\n",
            "Epoch 8/30\n",
            "460/460 [==============================] - 23s 51ms/step - loss: 0.2366 - accuracy: 0.9223 - val_loss: 0.6782 - val_accuracy: 0.8266\n",
            "Epoch 9/30\n",
            "460/460 [==============================] - 22s 48ms/step - loss: 0.2269 - accuracy: 0.9276 - val_loss: 0.3669 - val_accuracy: 0.8907\n",
            "Epoch 10/30\n",
            "460/460 [==============================] - 20s 44ms/step - loss: 0.2023 - accuracy: 0.9308 - val_loss: 0.3486 - val_accuracy: 0.8860\n",
            "Epoch 11/30\n",
            "460/460 [==============================] - 24s 52ms/step - loss: 0.1913 - accuracy: 0.9338 - val_loss: 0.4583 - val_accuracy: 0.8860\n",
            "Epoch 12/30\n",
            "460/460 [==============================] - 23s 50ms/step - loss: 0.1816 - accuracy: 0.9363 - val_loss: 0.5140 - val_accuracy: 0.8687\n",
            "Epoch 13/30\n",
            "460/460 [==============================] - 21s 45ms/step - loss: 0.1834 - accuracy: 0.9374 - val_loss: 0.4204 - val_accuracy: 0.8829\n",
            "Epoch 14/30\n",
            "460/460 [==============================] - 21s 45ms/step - loss: 0.1615 - accuracy: 0.9388 - val_loss: 0.3996 - val_accuracy: 0.8836\n",
            "Epoch 15/30\n",
            "460/460 [==============================] - 21s 45ms/step - loss: 0.1651 - accuracy: 0.9406 - val_loss: 0.3808 - val_accuracy: 0.8795\n",
            "Epoch 16/30\n",
            "460/460 [==============================] - 21s 46ms/step - loss: 0.1548 - accuracy: 0.9440 - val_loss: 0.6441 - val_accuracy: 0.8531\n",
            "Epoch 17/30\n",
            "460/460 [==============================] - 21s 45ms/step - loss: 0.1623 - accuracy: 0.9431 - val_loss: 0.5760 - val_accuracy: 0.8867\n",
            "Epoch 18/30\n",
            "460/460 [==============================] - 22s 47ms/step - loss: 0.1712 - accuracy: 0.9421 - val_loss: 0.3684 - val_accuracy: 0.8992\n",
            "Epoch 19/30\n",
            "460/460 [==============================] - 23s 49ms/step - loss: 0.1671 - accuracy: 0.9407 - val_loss: 0.4081 - val_accuracy: 0.8958\n",
            "Epoch 20/30\n",
            "460/460 [==============================] - 23s 51ms/step - loss: 0.1443 - accuracy: 0.9460 - val_loss: 0.4446 - val_accuracy: 0.8999\n",
            "Epoch 21/30\n",
            "460/460 [==============================] - 21s 47ms/step - loss: 0.1511 - accuracy: 0.9438 - val_loss: 0.3989 - val_accuracy: 0.9023\n",
            "Epoch 22/30\n",
            "460/460 [==============================] - 21s 47ms/step - loss: 0.1476 - accuracy: 0.9440 - val_loss: 0.4258 - val_accuracy: 0.8928\n",
            "Epoch 23/30\n",
            "460/460 [==============================] - 25s 54ms/step - loss: 0.1711 - accuracy: 0.9396 - val_loss: 0.4205 - val_accuracy: 0.8894\n",
            "Epoch 24/30\n",
            "460/460 [==============================] - 23s 50ms/step - loss: 0.1564 - accuracy: 0.9440 - val_loss: 0.3927 - val_accuracy: 0.8941\n",
            "Epoch 25/30\n",
            "460/460 [==============================] - 21s 47ms/step - loss: 0.1463 - accuracy: 0.9468 - val_loss: 0.6984 - val_accuracy: 0.8755\n",
            "Epoch 26/30\n",
            "460/460 [==============================] - 22s 47ms/step - loss: 0.1401 - accuracy: 0.9478 - val_loss: 0.4219 - val_accuracy: 0.9026\n",
            "Epoch 27/30\n",
            "460/460 [==============================] - 22s 48ms/step - loss: 0.1369 - accuracy: 0.9520 - val_loss: 0.4226 - val_accuracy: 0.9002\n",
            "Epoch 28/30\n",
            "460/460 [==============================] - 22s 48ms/step - loss: 0.1559 - accuracy: 0.9464 - val_loss: 0.5500 - val_accuracy: 0.8958\n",
            "Epoch 29/30\n",
            "460/460 [==============================] - 22s 48ms/step - loss: 0.1383 - accuracy: 0.9489 - val_loss: 0.5057 - val_accuracy: 0.9043\n",
            "Epoch 30/30\n",
            "460/460 [==============================] - 22s 49ms/step - loss: 0.1417 - accuracy: 0.9491 - val_loss: 0.6416 - val_accuracy: 0.9053\n"
          ]
        },
        {
          "output_type": "execute_result",
          "data": {
            "text/plain": [
              "<keras.callbacks.History at 0x7f3259d2f550>"
            ]
          },
          "metadata": {},
          "execution_count": 17
        }
      ],
      "source": [
        "# Training the model\n",
        "model.fit(X_train, Y_train, batch_size=batch_size, validation_data=(X_test, Y_test),epochs=epochs)"
      ]
    },
    {
      "cell_type": "code",
      "execution_count": null,
      "metadata": {
        "scrolled": false,
        "id": "JTwBFfBn7UB-"
      },
      "outputs": [],
      "source": []
    },
    {
      "cell_type": "code",
      "execution_count": null,
      "metadata": {
        "scrolled": false,
        "colab": {
          "base_uri": "https://localhost:8080/",
          "height": 269
        },
        "id": "xnNrVnWx7UB_",
        "outputId": "7d7b69db-2f9e-4cf0-a7ca-024ad2a24eb1"
      },
      "outputs": [
        {
          "output_type": "execute_result",
          "data": {
            "text/plain": [
              "Pred                LAYING  SITTING  STANDING  WALKING  WALKING_DOWNSTAIRS  \\\n",
              "True                                                                         \n",
              "LAYING                 510        0        27        0                   0   \n",
              "SITTING                  3      408        77        0                   1   \n",
              "STANDING                 0       83       447        1                   0   \n",
              "WALKING                  0        0         1      446                  24   \n",
              "WALKING_DOWNSTAIRS       0        0         0        0                 420   \n",
              "WALKING_UPSTAIRS         0        0         0        1                  33   \n",
              "\n",
              "Pred                WALKING_UPSTAIRS  \n",
              "True                                  \n",
              "LAYING                             0  \n",
              "SITTING                            2  \n",
              "STANDING                           1  \n",
              "WALKING                           25  \n",
              "WALKING_DOWNSTAIRS                 0  \n",
              "WALKING_UPSTAIRS                 437  "
            ],
            "text/html": [
              "\n",
              "  <div id=\"df-3ed8fb21-228a-47fd-87db-c829d2bc4369\">\n",
              "    <div class=\"colab-df-container\">\n",
              "      <div>\n",
              "<style scoped>\n",
              "    .dataframe tbody tr th:only-of-type {\n",
              "        vertical-align: middle;\n",
              "    }\n",
              "\n",
              "    .dataframe tbody tr th {\n",
              "        vertical-align: top;\n",
              "    }\n",
              "\n",
              "    .dataframe thead th {\n",
              "        text-align: right;\n",
              "    }\n",
              "</style>\n",
              "<table border=\"1\" class=\"dataframe\">\n",
              "  <thead>\n",
              "    <tr style=\"text-align: right;\">\n",
              "      <th>Pred</th>\n",
              "      <th>LAYING</th>\n",
              "      <th>SITTING</th>\n",
              "      <th>STANDING</th>\n",
              "      <th>WALKING</th>\n",
              "      <th>WALKING_DOWNSTAIRS</th>\n",
              "      <th>WALKING_UPSTAIRS</th>\n",
              "    </tr>\n",
              "    <tr>\n",
              "      <th>True</th>\n",
              "      <th></th>\n",
              "      <th></th>\n",
              "      <th></th>\n",
              "      <th></th>\n",
              "      <th></th>\n",
              "      <th></th>\n",
              "    </tr>\n",
              "  </thead>\n",
              "  <tbody>\n",
              "    <tr>\n",
              "      <th>LAYING</th>\n",
              "      <td>510</td>\n",
              "      <td>0</td>\n",
              "      <td>27</td>\n",
              "      <td>0</td>\n",
              "      <td>0</td>\n",
              "      <td>0</td>\n",
              "    </tr>\n",
              "    <tr>\n",
              "      <th>SITTING</th>\n",
              "      <td>3</td>\n",
              "      <td>408</td>\n",
              "      <td>77</td>\n",
              "      <td>0</td>\n",
              "      <td>1</td>\n",
              "      <td>2</td>\n",
              "    </tr>\n",
              "    <tr>\n",
              "      <th>STANDING</th>\n",
              "      <td>0</td>\n",
              "      <td>83</td>\n",
              "      <td>447</td>\n",
              "      <td>1</td>\n",
              "      <td>0</td>\n",
              "      <td>1</td>\n",
              "    </tr>\n",
              "    <tr>\n",
              "      <th>WALKING</th>\n",
              "      <td>0</td>\n",
              "      <td>0</td>\n",
              "      <td>1</td>\n",
              "      <td>446</td>\n",
              "      <td>24</td>\n",
              "      <td>25</td>\n",
              "    </tr>\n",
              "    <tr>\n",
              "      <th>WALKING_DOWNSTAIRS</th>\n",
              "      <td>0</td>\n",
              "      <td>0</td>\n",
              "      <td>0</td>\n",
              "      <td>0</td>\n",
              "      <td>420</td>\n",
              "      <td>0</td>\n",
              "    </tr>\n",
              "    <tr>\n",
              "      <th>WALKING_UPSTAIRS</th>\n",
              "      <td>0</td>\n",
              "      <td>0</td>\n",
              "      <td>0</td>\n",
              "      <td>1</td>\n",
              "      <td>33</td>\n",
              "      <td>437</td>\n",
              "    </tr>\n",
              "  </tbody>\n",
              "</table>\n",
              "</div>\n",
              "      <button class=\"colab-df-convert\" onclick=\"convertToInteractive('df-3ed8fb21-228a-47fd-87db-c829d2bc4369')\"\n",
              "              title=\"Convert this dataframe to an interactive table.\"\n",
              "              style=\"display:none;\">\n",
              "        \n",
              "  <svg xmlns=\"http://www.w3.org/2000/svg\" height=\"24px\"viewBox=\"0 0 24 24\"\n",
              "       width=\"24px\">\n",
              "    <path d=\"M0 0h24v24H0V0z\" fill=\"none\"/>\n",
              "    <path d=\"M18.56 5.44l.94 2.06.94-2.06 2.06-.94-2.06-.94-.94-2.06-.94 2.06-2.06.94zm-11 1L8.5 8.5l.94-2.06 2.06-.94-2.06-.94L8.5 2.5l-.94 2.06-2.06.94zm10 10l.94 2.06.94-2.06 2.06-.94-2.06-.94-.94-2.06-.94 2.06-2.06.94z\"/><path d=\"M17.41 7.96l-1.37-1.37c-.4-.4-.92-.59-1.43-.59-.52 0-1.04.2-1.43.59L10.3 9.45l-7.72 7.72c-.78.78-.78 2.05 0 2.83L4 21.41c.39.39.9.59 1.41.59.51 0 1.02-.2 1.41-.59l7.78-7.78 2.81-2.81c.8-.78.8-2.07 0-2.86zM5.41 20L4 18.59l7.72-7.72 1.47 1.35L5.41 20z\"/>\n",
              "  </svg>\n",
              "      </button>\n",
              "      \n",
              "  <style>\n",
              "    .colab-df-container {\n",
              "      display:flex;\n",
              "      flex-wrap:wrap;\n",
              "      gap: 12px;\n",
              "    }\n",
              "\n",
              "    .colab-df-convert {\n",
              "      background-color: #E8F0FE;\n",
              "      border: none;\n",
              "      border-radius: 50%;\n",
              "      cursor: pointer;\n",
              "      display: none;\n",
              "      fill: #1967D2;\n",
              "      height: 32px;\n",
              "      padding: 0 0 0 0;\n",
              "      width: 32px;\n",
              "    }\n",
              "\n",
              "    .colab-df-convert:hover {\n",
              "      background-color: #E2EBFA;\n",
              "      box-shadow: 0px 1px 2px rgba(60, 64, 67, 0.3), 0px 1px 3px 1px rgba(60, 64, 67, 0.15);\n",
              "      fill: #174EA6;\n",
              "    }\n",
              "\n",
              "    [theme=dark] .colab-df-convert {\n",
              "      background-color: #3B4455;\n",
              "      fill: #D2E3FC;\n",
              "    }\n",
              "\n",
              "    [theme=dark] .colab-df-convert:hover {\n",
              "      background-color: #434B5C;\n",
              "      box-shadow: 0px 1px 3px 1px rgba(0, 0, 0, 0.15);\n",
              "      filter: drop-shadow(0px 1px 2px rgba(0, 0, 0, 0.3));\n",
              "      fill: #FFFFFF;\n",
              "    }\n",
              "  </style>\n",
              "\n",
              "      <script>\n",
              "        const buttonEl =\n",
              "          document.querySelector('#df-3ed8fb21-228a-47fd-87db-c829d2bc4369 button.colab-df-convert');\n",
              "        buttonEl.style.display =\n",
              "          google.colab.kernel.accessAllowed ? 'block' : 'none';\n",
              "\n",
              "        async function convertToInteractive(key) {\n",
              "          const element = document.querySelector('#df-3ed8fb21-228a-47fd-87db-c829d2bc4369');\n",
              "          const dataTable =\n",
              "            await google.colab.kernel.invokeFunction('convertToInteractive',\n",
              "                                                     [key], {});\n",
              "          if (!dataTable) return;\n",
              "\n",
              "          const docLinkHtml = 'Like what you see? Visit the ' +\n",
              "            '<a target=\"_blank\" href=https://colab.research.google.com/notebooks/data_table.ipynb>data table notebook</a>'\n",
              "            + ' to learn more about interactive tables.';\n",
              "          element.innerHTML = '';\n",
              "          dataTable['output_type'] = 'display_data';\n",
              "          await google.colab.output.renderOutput(dataTable, element);\n",
              "          const docLink = document.createElement('div');\n",
              "          docLink.innerHTML = docLinkHtml;\n",
              "          element.appendChild(docLink);\n",
              "        }\n",
              "      </script>\n",
              "    </div>\n",
              "  </div>\n",
              "  "
            ]
          },
          "metadata": {},
          "execution_count": 19
        }
      ],
      "source": [
        "# Confusion Matrix\n",
        "new_confusion_matrix(Y_test, model.predict(X_test))"
      ]
    },
    {
      "cell_type": "code",
      "execution_count": null,
      "metadata": {
        "colab": {
          "base_uri": "https://localhost:8080/"
        },
        "id": "pNTBHfFc7UCA",
        "outputId": "e1bd556f-e57a-4d01-ec4a-c8c62d108a07"
      },
      "outputs": [
        {
          "output_type": "stream",
          "name": "stdout",
          "text": [
            "93/93 [==============================] - 1s 14ms/step - loss: 0.6416 - accuracy: 0.9053\n",
            "\n",
            "   cat_crossentropy  ||   accuracy \n",
            "  ____________________________________\n",
            "[0.6415585875511169, 0.9053274393081665]\n"
          ]
        }
      ],
      "source": [
        "score = model.evaluate(X_test, Y_test)\n",
        "\n",
        "print(\"\\n   cat_crossentropy  ||   accuracy \")\n",
        "print(\"  ____________________________________\")\n",
        "print(score)"
      ]
    },
    {
      "cell_type": "markdown",
      "metadata": {
        "id": "Aq1qSCHo7UCA"
      },
      "source": [
        "<html><h3><p style=\"color:#008080\">With a simple 1 layer architecture we got 90.09% accuracy and a loss of 0.47</p></h4></html>"
      ]
    },
    {
      "cell_type": "markdown",
      "metadata": {
        "id": "44zUFvCY7UCB"
      },
      "source": []
    },
    {
      "cell_type": "markdown",
      "metadata": {
        "id": "BmZCCH127UCC"
      },
      "source": [
        "<html><h1><p style=\"color:red\">2. Defining the Architecture of 2-Layer of LSTM with more hyperparameter tunning </p></h1></html>"
      ]
    },
    {
      "cell_type": "markdown",
      "metadata": {
        "id": "pbgLp06m7UCC"
      },
      "source": [
        "### 2.1 First Model for 2-Layer of LSTM with more hyperparameter tunning"
      ]
    },
    {
      "cell_type": "code",
      "execution_count": null,
      "metadata": {
        "id": "GuzdKFYI7UCC"
      },
      "outputs": [],
      "source": [
        "# Initializing parameters\n",
        "n_epochs = 30\n",
        "n_batch = 16\n",
        "n_classes = _count_classes(Y_train)\n",
        "\n",
        "# Bias regularizer value - we will use elasticnet\n",
        "reg = L1L2(0.01, 0.01)"
      ]
    },
    {
      "cell_type": "code",
      "execution_count": null,
      "metadata": {
        "id": "4gc7oIVt7UCD",
        "outputId": "aefce5c4-4b75-4a33-d92d-91768d0957c7"
      },
      "outputs": [
        {
          "name": "stdout",
          "output_type": "stream",
          "text": [
            "Model Summary: \n",
            "Model: \"sequential_2\"\n",
            "_________________________________________________________________\n",
            "Layer (type)                 Output Shape              Param #   \n",
            "=================================================================\n",
            "lstm_2 (LSTM)                (None, 128, 48)           11136     \n",
            "_________________________________________________________________\n",
            "batch_normalization_1 (Batch (None, 128, 48)           192       \n",
            "_________________________________________________________________\n",
            "dropout_2 (Dropout)          (None, 128, 48)           0         \n",
            "_________________________________________________________________\n",
            "lstm_3 (LSTM)                (None, 32)                10368     \n",
            "_________________________________________________________________\n",
            "dropout_3 (Dropout)          (None, 32)                0         \n",
            "_________________________________________________________________\n",
            "dense_2 (Dense)              (None, 6)                 198       \n",
            "=================================================================\n",
            "Total params: 21,894\n",
            "Trainable params: 21,798\n",
            "Non-trainable params: 96\n",
            "_________________________________________________________________\n"
          ]
        }
      ],
      "source": [
        "# Model execution\n",
        "model = Sequential()\n",
        "model.add(LSTM(48, input_shape=(timesteps, input_dim), return_sequences=True,bias_regularizer=reg ))\n",
        "model.add(BatchNormalization())\n",
        "model.add(Dropout(0.50))\n",
        "model.add(LSTM(32))\n",
        "model.add(Dropout(0.50))\n",
        "model.add(Dense(n_classes, activation='sigmoid'))\n",
        "print(\"Model Summary: \")\n",
        "model.summary()"
      ]
    },
    {
      "cell_type": "code",
      "execution_count": null,
      "metadata": {
        "id": "ZUX7RGHA7UCE"
      },
      "outputs": [],
      "source": [
        "model.compile(loss='categorical_crossentropy', optimizer='adam', metrics=['accuracy'])"
      ]
    },
    {
      "cell_type": "code",
      "execution_count": null,
      "metadata": {
        "id": "deeIYi837UCE",
        "outputId": "d3ef9f04-14c3-4254-be46-d9c7cd84ead0"
      },
      "outputs": [
        {
          "name": "stdout",
          "output_type": "stream",
          "text": [
            "Train on 7352 samples, validate on 2947 samples\n",
            "Epoch 1/30\n",
            "7352/7352 [==============================] - 84s 11ms/step - loss: 1.7780 - accuracy: 0.6234 - val_loss: 1.4911 - val_accuracy: 0.6071\n",
            "Epoch 2/30\n",
            "7352/7352 [==============================] - 84s 11ms/step - loss: 0.9271 - accuracy: 0.7723 - val_loss: 0.6301 - val_accuracy: 0.8151\n",
            "Epoch 3/30\n",
            "7352/7352 [==============================] - 84s 11ms/step - loss: 0.6144 - accuracy: 0.8328 - val_loss: 0.5123 - val_accuracy: 0.8185\n",
            "Epoch 4/30\n",
            "7352/7352 [==============================] - 85s 12ms/step - loss: 0.3950 - accuracy: 0.8885 - val_loss: 0.3122 - val_accuracy: 0.8806\n",
            "Epoch 5/30\n",
            "7352/7352 [==============================] - 85s 12ms/step - loss: 0.3201 - accuracy: 0.9059 - val_loss: 0.2809 - val_accuracy: 0.9009\n",
            "Epoch 6/30\n",
            "7352/7352 [==============================] - 85s 12ms/step - loss: 0.2534 - accuracy: 0.9246 - val_loss: 0.2453 - val_accuracy: 0.9230\n",
            "Epoch 7/30\n",
            "7352/7352 [==============================] - 85s 12ms/step - loss: 0.2696 - accuracy: 0.9211 - val_loss: 0.3796 - val_accuracy: 0.8429\n",
            "Epoch 8/30\n",
            "7352/7352 [==============================] - 85s 12ms/step - loss: 0.2155 - accuracy: 0.9321 - val_loss: 0.1972 - val_accuracy: 0.9325\n",
            "Epoch 9/30\n",
            "7352/7352 [==============================] - 85s 12ms/step - loss: 0.2002 - accuracy: 0.9321 - val_loss: 0.3022 - val_accuracy: 0.8904\n",
            "Epoch 10/30\n",
            "7352/7352 [==============================] - 85s 12ms/step - loss: 0.2217 - accuracy: 0.9252 - val_loss: 0.3029 - val_accuracy: 0.9097\n",
            "Epoch 11/30\n",
            "7352/7352 [==============================] - 85s 12ms/step - loss: 0.2189 - accuracy: 0.9285 - val_loss: 0.2121 - val_accuracy: 0.9240\n",
            "Epoch 12/30\n",
            "7352/7352 [==============================] - 85s 11ms/step - loss: 0.1965 - accuracy: 0.9348 - val_loss: 0.1986 - val_accuracy: 0.9213\n",
            "Epoch 13/30\n",
            "7352/7352 [==============================] - 85s 12ms/step - loss: 0.1797 - accuracy: 0.9370 - val_loss: 0.3006 - val_accuracy: 0.9138\n",
            "Epoch 14/30\n",
            "7352/7352 [==============================] - 85s 11ms/step - loss: 0.1617 - accuracy: 0.9426 - val_loss: 0.2833 - val_accuracy: 0.9050\n",
            "Epoch 15/30\n",
            "7352/7352 [==============================] - 85s 12ms/step - loss: 0.1665 - accuracy: 0.9395 - val_loss: 0.3443 - val_accuracy: 0.8894\n",
            "Epoch 16/30\n",
            "7352/7352 [==============================] - 84s 11ms/step - loss: 0.1718 - accuracy: 0.9385 - val_loss: 0.2555 - val_accuracy: 0.9270\n",
            "Epoch 17/30\n",
            "7352/7352 [==============================] - 85s 12ms/step - loss: 0.1626 - accuracy: 0.9452 - val_loss: 0.3098 - val_accuracy: 0.8992\n",
            "Epoch 18/30\n",
            "7352/7352 [==============================] - 85s 12ms/step - loss: 0.1551 - accuracy: 0.9433 - val_loss: 0.2782 - val_accuracy: 0.9155\n",
            "Epoch 19/30\n",
            "7352/7352 [==============================] - 85s 12ms/step - loss: 0.1632 - accuracy: 0.9382 - val_loss: 0.2661 - val_accuracy: 0.9253\n",
            "Epoch 20/30\n",
            "7352/7352 [==============================] - 85s 11ms/step - loss: 0.1580 - accuracy: 0.9423 - val_loss: 0.2831 - val_accuracy: 0.9237\n",
            "Epoch 21/30\n",
            "7352/7352 [==============================] - 85s 12ms/step - loss: 0.1676 - accuracy: 0.9422 - val_loss: 0.2472 - val_accuracy: 0.9172\n",
            "Epoch 22/30\n",
            "7352/7352 [==============================] - 85s 12ms/step - loss: 0.1523 - accuracy: 0.9456 - val_loss: 0.2377 - val_accuracy: 0.9315\n",
            "Epoch 23/30\n",
            "7352/7352 [==============================] - 85s 12ms/step - loss: 0.1459 - accuracy: 0.9459 - val_loss: 0.2817 - val_accuracy: 0.9260\n",
            "Epoch 24/30\n",
            "7352/7352 [==============================] - 84s 11ms/step - loss: 0.1820 - accuracy: 0.9357 - val_loss: 0.2484 - val_accuracy: 0.9213\n",
            "Epoch 25/30\n",
            "7352/7352 [==============================] - 85s 12ms/step - loss: 0.1495 - accuracy: 0.9442 - val_loss: 0.2592 - val_accuracy: 0.9304\n",
            "Epoch 26/30\n",
            "7352/7352 [==============================] - 85s 12ms/step - loss: 0.1412 - accuracy: 0.9518 - val_loss: 0.3391 - val_accuracy: 0.9247\n",
            "Epoch 27/30\n",
            "7352/7352 [==============================] - 84s 11ms/step - loss: 0.1579 - accuracy: 0.9385 - val_loss: 0.3264 - val_accuracy: 0.9104\n",
            "Epoch 28/30\n",
            "7352/7352 [==============================] - 84s 11ms/step - loss: 0.1603 - accuracy: 0.9456 - val_loss: 0.3852 - val_accuracy: 0.9230\n",
            "Epoch 29/30\n",
            "7352/7352 [==============================] - 84s 11ms/step - loss: 0.1524 - accuracy: 0.9460 - val_loss: 0.2843 - val_accuracy: 0.9267\n",
            "Epoch 30/30\n",
            "7352/7352 [==============================] - 84s 11ms/step - loss: 0.1488 - accuracy: 0.9456 - val_loss: 0.3922 - val_accuracy: 0.9036\n"
          ]
        },
        {
          "data": {
            "text/plain": [
              "<keras.callbacks.callbacks.History at 0x131d4cfbf60>"
            ]
          },
          "execution_count": 96,
          "metadata": {},
          "output_type": "execute_result"
        }
      ],
      "source": [
        "# Training the model\n",
        "model.fit(X_train, Y_train, batch_size=n_batch, validation_data=(X_test, Y_test), epochs=n_epochs)"
      ]
    },
    {
      "cell_type": "code",
      "execution_count": null,
      "metadata": {
        "id": "-SK01jz47UCF",
        "outputId": "8226700c-f79f-4f13-e0ba-3d1ea5ab6427"
      },
      "outputs": [
        {
          "data": {
            "text/html": [
              "<div>\n",
              "<style scoped>\n",
              "    .dataframe tbody tr th:only-of-type {\n",
              "        vertical-align: middle;\n",
              "    }\n",
              "\n",
              "    .dataframe tbody tr th {\n",
              "        vertical-align: top;\n",
              "    }\n",
              "\n",
              "    .dataframe thead th {\n",
              "        text-align: right;\n",
              "    }\n",
              "</style>\n",
              "<table border=\"1\" class=\"dataframe\">\n",
              "  <thead>\n",
              "    <tr style=\"text-align: right;\">\n",
              "      <th>Pred</th>\n",
              "      <th>LAYING</th>\n",
              "      <th>SITTING</th>\n",
              "      <th>STANDING</th>\n",
              "      <th>WALKING</th>\n",
              "      <th>WALKING_DOWNSTAIRS</th>\n",
              "      <th>WALKING_UPSTAIRS</th>\n",
              "    </tr>\n",
              "    <tr>\n",
              "      <th>True</th>\n",
              "      <th></th>\n",
              "      <th></th>\n",
              "      <th></th>\n",
              "      <th></th>\n",
              "      <th></th>\n",
              "      <th></th>\n",
              "    </tr>\n",
              "  </thead>\n",
              "  <tbody>\n",
              "    <tr>\n",
              "      <th>LAYING</th>\n",
              "      <td>537</td>\n",
              "      <td>0</td>\n",
              "      <td>0</td>\n",
              "      <td>0</td>\n",
              "      <td>0</td>\n",
              "      <td>0</td>\n",
              "    </tr>\n",
              "    <tr>\n",
              "      <th>SITTING</th>\n",
              "      <td>0</td>\n",
              "      <td>374</td>\n",
              "      <td>113</td>\n",
              "      <td>0</td>\n",
              "      <td>0</td>\n",
              "      <td>4</td>\n",
              "    </tr>\n",
              "    <tr>\n",
              "      <th>STANDING</th>\n",
              "      <td>0</td>\n",
              "      <td>65</td>\n",
              "      <td>467</td>\n",
              "      <td>0</td>\n",
              "      <td>0</td>\n",
              "      <td>0</td>\n",
              "    </tr>\n",
              "    <tr>\n",
              "      <th>WALKING</th>\n",
              "      <td>0</td>\n",
              "      <td>0</td>\n",
              "      <td>0</td>\n",
              "      <td>445</td>\n",
              "      <td>50</td>\n",
              "      <td>1</td>\n",
              "    </tr>\n",
              "    <tr>\n",
              "      <th>WALKING_DOWNSTAIRS</th>\n",
              "      <td>0</td>\n",
              "      <td>0</td>\n",
              "      <td>0</td>\n",
              "      <td>0</td>\n",
              "      <td>420</td>\n",
              "      <td>0</td>\n",
              "    </tr>\n",
              "    <tr>\n",
              "      <th>WALKING_UPSTAIRS</th>\n",
              "      <td>0</td>\n",
              "      <td>0</td>\n",
              "      <td>0</td>\n",
              "      <td>2</td>\n",
              "      <td>49</td>\n",
              "      <td>420</td>\n",
              "    </tr>\n",
              "  </tbody>\n",
              "</table>\n",
              "</div>"
            ],
            "text/plain": [
              "Pred                LAYING  SITTING  STANDING  WALKING  WALKING_DOWNSTAIRS  \\\n",
              "True                                                                         \n",
              "LAYING                 537        0         0        0                   0   \n",
              "SITTING                  0      374       113        0                   0   \n",
              "STANDING                 0       65       467        0                   0   \n",
              "WALKING                  0        0         0      445                  50   \n",
              "WALKING_DOWNSTAIRS       0        0         0        0                 420   \n",
              "WALKING_UPSTAIRS         0        0         0        2                  49   \n",
              "\n",
              "Pred                WALKING_UPSTAIRS  \n",
              "True                                  \n",
              "LAYING                             0  \n",
              "SITTING                            4  \n",
              "STANDING                           0  \n",
              "WALKING                            1  \n",
              "WALKING_DOWNSTAIRS                 0  \n",
              "WALKING_UPSTAIRS                 420  "
            ]
          },
          "execution_count": 97,
          "metadata": {},
          "output_type": "execute_result"
        }
      ],
      "source": [
        "# Confusion Matrix\n",
        "new_confusion_matrix(Y_test, model.predict(X_test))"
      ]
    },
    {
      "cell_type": "code",
      "execution_count": null,
      "metadata": {
        "id": "PxMYx4m47UCG",
        "outputId": "9586bb83-9043-4846-cb36-58b13017386c"
      },
      "outputs": [
        {
          "name": "stdout",
          "output_type": "stream",
          "text": [
            "2947/2947 [==============================] - 3s 1ms/step\n",
            "\n",
            "   cat_crossentropy  ||   accuracy \n",
            "  ____________________________________\n",
            "[0.3922457374024961, 0.903630793094635]\n"
          ]
        }
      ],
      "source": [
        "score = model.evaluate(X_test, Y_test)\n",
        "\n",
        "print(\"\\n   cat_crossentropy  ||   accuracy \")\n",
        "print(\"  ____________________________________\")\n",
        "print(score)"
      ]
    },
    {
      "cell_type": "code",
      "execution_count": null,
      "metadata": {
        "id": "N9YCNlRD7UCH"
      },
      "outputs": [],
      "source": []
    },
    {
      "cell_type": "markdown",
      "metadata": {
        "id": "wKprY4ZM7UCH"
      },
      "source": [
        "### 2.2 Second Model for 2-Layer of LSTM with more hyperparameter tunning"
      ]
    },
    {
      "cell_type": "code",
      "execution_count": null,
      "metadata": {
        "id": "wIE8Ukf17UCH",
        "outputId": "87d0caca-2770-43fb-8228-85f5366a7403"
      },
      "outputs": [
        {
          "name": "stdout",
          "output_type": "stream",
          "text": [
            "Model Summary: \n",
            "Model: \"sequential_3\"\n",
            "_________________________________________________________________\n",
            "Layer (type)                 Output Shape              Param #   \n",
            "=================================================================\n",
            "lstm_4 (LSTM)                (None, 128, 64)           18944     \n",
            "_________________________________________________________________\n",
            "batch_normalization_2 (Batch (None, 128, 64)           256       \n",
            "_________________________________________________________________\n",
            "dropout_4 (Dropout)          (None, 128, 64)           0         \n",
            "_________________________________________________________________\n",
            "lstm_5 (LSTM)                (None, 48)                21696     \n",
            "_________________________________________________________________\n",
            "dropout_5 (Dropout)          (None, 48)                0         \n",
            "_________________________________________________________________\n",
            "dense_3 (Dense)              (None, 6)                 294       \n",
            "=================================================================\n",
            "Total params: 41,190\n",
            "Trainable params: 41,062\n",
            "Non-trainable params: 128\n",
            "_________________________________________________________________\n"
          ]
        }
      ],
      "source": [
        "# Model execution\n",
        "model = Sequential()\n",
        "model.add(LSTM(64, input_shape=(timesteps, input_dim), return_sequences=True, bias_regularizer=reg))\n",
        "model.add(BatchNormalization())\n",
        "model.add(Dropout(0.50))\n",
        "model.add(LSTM(48))\n",
        "model.add(Dropout(0.50))\n",
        "model.add(Dense(n_classes, activation='sigmoid'))\n",
        "print(\"Model Summary: \")\n",
        "model.summary()"
      ]
    },
    {
      "cell_type": "code",
      "execution_count": null,
      "metadata": {
        "id": "T6_1bpLq7UCI"
      },
      "outputs": [],
      "source": [
        "model.compile(loss='categorical_crossentropy', optimizer='adam', metrics=['accuracy'])"
      ]
    },
    {
      "cell_type": "code",
      "execution_count": null,
      "metadata": {
        "id": "_FWTjff37UCI",
        "outputId": "8f59926f-1b76-40f4-a395-f2dce7d7c52f"
      },
      "outputs": [
        {
          "name": "stdout",
          "output_type": "stream",
          "text": [
            "Train on 7352 samples, validate on 2947 samples\n",
            "Epoch 1/30\n",
            "7352/7352 [==============================] - 85s 11ms/step - loss: 1.8590 - accuracy: 0.6396 - val_loss: 1.3335 - val_accuracy: 0.6362\n",
            "Epoch 2/30\n",
            "7352/7352 [==============================] - 84s 11ms/step - loss: 0.9453 - accuracy: 0.8044 - val_loss: 0.7366 - val_accuracy: 0.8378\n",
            "Epoch 3/30\n",
            "7352/7352 [==============================] - 85s 11ms/step - loss: 0.4631 - accuracy: 0.8964 - val_loss: 0.3560 - val_accuracy: 0.8890\n",
            "Epoch 4/30\n",
            "7352/7352 [==============================] - 85s 12ms/step - loss: 0.2618 - accuracy: 0.9229 - val_loss: 0.2307 - val_accuracy: 0.9240\n",
            "Epoch 5/30\n",
            "7352/7352 [==============================] - 84s 11ms/step - loss: 0.2229 - accuracy: 0.9306 - val_loss: 0.2192 - val_accuracy: 0.9182\n",
            "Epoch 6/30\n",
            "7352/7352 [==============================] - 85s 12ms/step - loss: 0.2097 - accuracy: 0.9287 - val_loss: 0.2898 - val_accuracy: 0.9125\n",
            "Epoch 7/30\n",
            "7352/7352 [==============================] - 85s 12ms/step - loss: 0.1927 - accuracy: 0.9314 - val_loss: 0.2269 - val_accuracy: 0.9240\n",
            "Epoch 8/30\n",
            "7352/7352 [==============================] - 85s 12ms/step - loss: 0.1715 - accuracy: 0.9378 - val_loss: 0.2288 - val_accuracy: 0.9264\n",
            "Epoch 9/30\n",
            "7352/7352 [==============================] - 84s 11ms/step - loss: 0.1794 - accuracy: 0.9369 - val_loss: 0.2861 - val_accuracy: 0.8826\n",
            "Epoch 10/30\n",
            "7352/7352 [==============================] - 84s 11ms/step - loss: 0.2015 - accuracy: 0.9287 - val_loss: 0.1937 - val_accuracy: 0.9131\n",
            "Epoch 11/30\n",
            "7352/7352 [==============================] - 84s 11ms/step - loss: 0.1559 - accuracy: 0.9410 - val_loss: 0.1972 - val_accuracy: 0.9298\n",
            "Epoch 12/30\n",
            "7352/7352 [==============================] - 85s 12ms/step - loss: 0.2217 - accuracy: 0.9268 - val_loss: 0.2370 - val_accuracy: 0.8989\n",
            "Epoch 13/30\n",
            "7352/7352 [==============================] - 85s 12ms/step - loss: 0.1829 - accuracy: 0.9376 - val_loss: 0.2485 - val_accuracy: 0.9284\n",
            "Epoch 14/30\n",
            "7352/7352 [==============================] - 86s 12ms/step - loss: 0.1566 - accuracy: 0.9437 - val_loss: 0.2627 - val_accuracy: 0.9216\n",
            "Epoch 15/30\n",
            "7352/7352 [==============================] - 85s 12ms/step - loss: 0.1790 - accuracy: 0.9334 - val_loss: 0.2761 - val_accuracy: 0.9108\n",
            "Epoch 16/30\n",
            "7352/7352 [==============================] - 86s 12ms/step - loss: 0.1696 - accuracy: 0.9357 - val_loss: 0.2416 - val_accuracy: 0.9148\n",
            "Epoch 17/30\n",
            "7352/7352 [==============================] - 86s 12ms/step - loss: 0.1397 - accuracy: 0.9415 - val_loss: 0.1920 - val_accuracy: 0.9345\n",
            "Epoch 18/30\n",
            "7352/7352 [==============================] - 87s 12ms/step - loss: 0.1675 - accuracy: 0.9355 - val_loss: 0.2648 - val_accuracy: 0.9135\n",
            "Epoch 19/30\n",
            "7352/7352 [==============================] - 86s 12ms/step - loss: 0.1407 - accuracy: 0.9452 - val_loss: 0.1704 - val_accuracy: 0.9389\n",
            "Epoch 20/30\n",
            "7352/7352 [==============================] - 85s 12ms/step - loss: 0.1954 - accuracy: 0.9314 - val_loss: 0.3766 - val_accuracy: 0.8918\n",
            "Epoch 21/30\n",
            "7352/7352 [==============================] - 86s 12ms/step - loss: 0.1727 - accuracy: 0.9444 - val_loss: 0.3372 - val_accuracy: 0.9046\n",
            "Epoch 22/30\n",
            "7352/7352 [==============================] - 85s 12ms/step - loss: 0.1439 - accuracy: 0.9468 - val_loss: 0.2936 - val_accuracy: 0.9046\n",
            "Epoch 23/30\n",
            "7352/7352 [==============================] - 85s 12ms/step - loss: 0.1377 - accuracy: 0.9457 - val_loss: 0.2863 - val_accuracy: 0.9141\n",
            "Epoch 24/30\n",
            "7352/7352 [==============================] - 86s 12ms/step - loss: 0.1402 - accuracy: 0.9449 - val_loss: 0.2931 - val_accuracy: 0.9257\n",
            "Epoch 25/30\n",
            "7352/7352 [==============================] - 85s 12ms/step - loss: 0.1332 - accuracy: 0.9456 - val_loss: 0.3453 - val_accuracy: 0.9046\n",
            "Epoch 26/30\n",
            "7352/7352 [==============================] - 85s 12ms/step - loss: 0.1326 - accuracy: 0.9464 - val_loss: 0.3224 - val_accuracy: 0.9094\n",
            "Epoch 27/30\n",
            "7352/7352 [==============================] - 85s 12ms/step - loss: 0.1314 - accuracy: 0.9486 - val_loss: 0.2843 - val_accuracy: 0.9131\n",
            "Epoch 28/30\n",
            "7352/7352 [==============================] - 86s 12ms/step - loss: 0.1395 - accuracy: 0.9372 - val_loss: 0.2210 - val_accuracy: 0.9270\n",
            "Epoch 29/30\n",
            "7352/7352 [==============================] - 86s 12ms/step - loss: 0.1271 - accuracy: 0.9455 - val_loss: 0.3859 - val_accuracy: 0.9125\n",
            "Epoch 30/30\n",
            "7352/7352 [==============================] - 85s 12ms/step - loss: 0.1276 - accuracy: 0.9478 - val_loss: 0.2795 - val_accuracy: 0.9172\n"
          ]
        },
        {
          "data": {
            "text/plain": [
              "<keras.callbacks.callbacks.History at 0x131d82f1f60>"
            ]
          },
          "execution_count": 102,
          "metadata": {},
          "output_type": "execute_result"
        }
      ],
      "source": [
        "# Training the model\n",
        "model.fit(X_train, Y_train, batch_size=n_batch, validation_data=(X_test, Y_test), epochs=n_epochs)"
      ]
    },
    {
      "cell_type": "code",
      "execution_count": null,
      "metadata": {
        "id": "pPl8AOb67UCJ",
        "outputId": "b5450c20-4b39-4410-de2e-840d44b2d6ee"
      },
      "outputs": [
        {
          "data": {
            "text/html": [
              "<div>\n",
              "<style scoped>\n",
              "    .dataframe tbody tr th:only-of-type {\n",
              "        vertical-align: middle;\n",
              "    }\n",
              "\n",
              "    .dataframe tbody tr th {\n",
              "        vertical-align: top;\n",
              "    }\n",
              "\n",
              "    .dataframe thead th {\n",
              "        text-align: right;\n",
              "    }\n",
              "</style>\n",
              "<table border=\"1\" class=\"dataframe\">\n",
              "  <thead>\n",
              "    <tr style=\"text-align: right;\">\n",
              "      <th>Pred</th>\n",
              "      <th>LAYING</th>\n",
              "      <th>SITTING</th>\n",
              "      <th>STANDING</th>\n",
              "      <th>WALKING</th>\n",
              "      <th>WALKING_DOWNSTAIRS</th>\n",
              "      <th>WALKING_UPSTAIRS</th>\n",
              "    </tr>\n",
              "    <tr>\n",
              "      <th>True</th>\n",
              "      <th></th>\n",
              "      <th></th>\n",
              "      <th></th>\n",
              "      <th></th>\n",
              "      <th></th>\n",
              "      <th></th>\n",
              "    </tr>\n",
              "  </thead>\n",
              "  <tbody>\n",
              "    <tr>\n",
              "      <th>LAYING</th>\n",
              "      <td>519</td>\n",
              "      <td>0</td>\n",
              "      <td>18</td>\n",
              "      <td>0</td>\n",
              "      <td>0</td>\n",
              "      <td>0</td>\n",
              "    </tr>\n",
              "    <tr>\n",
              "      <th>SITTING</th>\n",
              "      <td>7</td>\n",
              "      <td>388</td>\n",
              "      <td>96</td>\n",
              "      <td>0</td>\n",
              "      <td>0</td>\n",
              "      <td>0</td>\n",
              "    </tr>\n",
              "    <tr>\n",
              "      <th>STANDING</th>\n",
              "      <td>0</td>\n",
              "      <td>88</td>\n",
              "      <td>444</td>\n",
              "      <td>0</td>\n",
              "      <td>0</td>\n",
              "      <td>0</td>\n",
              "    </tr>\n",
              "    <tr>\n",
              "      <th>WALKING</th>\n",
              "      <td>0</td>\n",
              "      <td>0</td>\n",
              "      <td>0</td>\n",
              "      <td>477</td>\n",
              "      <td>16</td>\n",
              "      <td>3</td>\n",
              "    </tr>\n",
              "    <tr>\n",
              "      <th>WALKING_DOWNSTAIRS</th>\n",
              "      <td>0</td>\n",
              "      <td>0</td>\n",
              "      <td>0</td>\n",
              "      <td>0</td>\n",
              "      <td>420</td>\n",
              "      <td>0</td>\n",
              "    </tr>\n",
              "    <tr>\n",
              "      <th>WALKING_UPSTAIRS</th>\n",
              "      <td>0</td>\n",
              "      <td>0</td>\n",
              "      <td>0</td>\n",
              "      <td>6</td>\n",
              "      <td>10</td>\n",
              "      <td>455</td>\n",
              "    </tr>\n",
              "  </tbody>\n",
              "</table>\n",
              "</div>"
            ],
            "text/plain": [
              "Pred                LAYING  SITTING  STANDING  WALKING  WALKING_DOWNSTAIRS  \\\n",
              "True                                                                         \n",
              "LAYING                 519        0        18        0                   0   \n",
              "SITTING                  7      388        96        0                   0   \n",
              "STANDING                 0       88       444        0                   0   \n",
              "WALKING                  0        0         0      477                  16   \n",
              "WALKING_DOWNSTAIRS       0        0         0        0                 420   \n",
              "WALKING_UPSTAIRS         0        0         0        6                  10   \n",
              "\n",
              "Pred                WALKING_UPSTAIRS  \n",
              "True                                  \n",
              "LAYING                             0  \n",
              "SITTING                            0  \n",
              "STANDING                           0  \n",
              "WALKING                            3  \n",
              "WALKING_DOWNSTAIRS                 0  \n",
              "WALKING_UPSTAIRS                 455  "
            ]
          },
          "execution_count": 103,
          "metadata": {},
          "output_type": "execute_result"
        }
      ],
      "source": [
        "# Confusion Matrix\n",
        "new_confusion_matrix(Y_test, model.predict(X_test))"
      ]
    },
    {
      "cell_type": "code",
      "execution_count": null,
      "metadata": {
        "scrolled": true,
        "id": "S6vk-5Oa7UCJ",
        "outputId": "55b0030a-fcf3-409e-d1a0-5ff1e272348b"
      },
      "outputs": [
        {
          "name": "stdout",
          "output_type": "stream",
          "text": [
            "2947/2947 [==============================] - 3s 1ms/step\n",
            "\n",
            "   cat_crossentropy  ||   accuracy \n",
            "  ____________________________________\n",
            "[0.279539362433966, 0.917203962802887]\n"
          ]
        }
      ],
      "source": [
        "score = model.evaluate(X_test, Y_test)\n",
        "\n",
        "print(\"\\n   cat_crossentropy  ||   accuracy \")\n",
        "print(\"  ____________________________________\")\n",
        "print(score)"
      ]
    },
    {
      "cell_type": "code",
      "execution_count": null,
      "metadata": {
        "id": "LU3hmMPl7UCK"
      },
      "outputs": [],
      "source": []
    },
    {
      "cell_type": "markdown",
      "source": [
        "**Further extention**\n",
        "- 1-Layer LSTM Layer with hidden layer = 128 with dropout = 0.5\n",
        "- 1-Layer LSTM Layer with hidden layer = 324 with slight change in dropout = 0.6\n",
        "- 2-Layer LSTM Layer with hidden layer, h1 = 256 & h2 = 128 with dropout 0.7 & 0.6 respectively\n",
        "- 2-Layer LSTM Layer with hidden layer, h1 = 128 & h2 = 64 with dropout 0.2 & 0.5 respectively.\n",
        "\n",
        "###############\n",
        "\n",
        "for last model: archi...\n",
        "\n",
        "epochs1 = 30\n",
        "batch_size1= 32\n",
        "n_hidden1 = 128\n",
        "n_hidden2 =64\n",
        "\n",
        "######################################\n",
        "\n",
        "# Initiliazing the sequential model\n",
        "model = Sequential()\n",
        "# Configuring the parameters\n",
        "model.add(LSTM(n_hidden1, return_sequences=True, input_shape=(timesteps, input_dim)))\n",
        "# Adding a dropout layer\n",
        "model.add(Dropout(0.2))\n",
        "# Adding a dense output layer with sigmoid activation\n",
        "\n",
        "model.add(LSTM(n_hidden2, input_shape=(timesteps, input_dim)))\n",
        "model.add(Dropout(0.5))\n",
        "\n",
        "model.add(Dense(n_classes, activation='sigmoid'))\n",
        "\n",
        "\n",
        "# Compiling the model\n",
        "model.compile(loss='categorical_crossentropy',\n",
        "              optimizer='rmsprop',\n",
        "              metrics=['accuracy'])\n",
        "\n",
        "# Training the model\n",
        "model.fit(X_train,\n",
        "          Y_train,\n",
        "          batch_size=batch_size,\n",
        "          validation_data=(X_test, Y_test),\n",
        "          epochs=epochs)\n",
        "\n",
        "##############################\n",
        "\n",
        "# Confusion Matrix\n",
        "print(confusion_matrix(Y_test, model.predict(X_test)))\n",
        "\n",
        "score = model.evaluate(X_test, Y_test)\n",
        "score\n",
        "\n",
        "############################\n",
        "import matplotlib.pyplot as plt\n",
        "%matplotlib inline\n",
        "print('Test score:', scores[0]) \n",
        "print('Test accuracy:', scores[1])\n",
        " \n",
        "fig,ax = plt.subplots(1,1) \n",
        "ax.set_xlabel('epoch') \n",
        "ax.set_ylabel('Categorical Crossentropy Loss')\n",
        " \n",
        "# list of epoch numbers \n",
        "x = list(range(1,epochs+1))\n",
        "\n",
        "vy = history.history['val_loss'] \n",
        "ty = history.history['loss'] \n",
        "plt_dynamic(x, vy, ty, ax)"
      ],
      "metadata": {
        "id": "sS-Npo9iGQco"
      }
    }
  ],
  "metadata": {
    "kernelspec": {
      "display_name": "Python 3 (ipykernel)",
      "language": "python",
      "name": "python3"
    },
    "language_info": {
      "codemirror_mode": {
        "name": "ipython",
        "version": 3
      },
      "file_extension": ".py",
      "mimetype": "text/x-python",
      "name": "python",
      "nbconvert_exporter": "python",
      "pygments_lexer": "ipython3",
      "version": "3.9.9"
    },
    "colab": {
      "provenance": [],
      "include_colab_link": true
    }
  },
  "nbformat": 4,
  "nbformat_minor": 0
}